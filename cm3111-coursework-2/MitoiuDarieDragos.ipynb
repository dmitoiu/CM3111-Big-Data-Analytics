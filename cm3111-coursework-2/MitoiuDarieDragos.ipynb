{
 "cells": [
  {
   "cell_type": "code",
   "execution_count": 3,
   "metadata": {
    "collapsed": true
   },
   "outputs": [],
   "source": [
    "# --------------------------------------------------\n",
    "# Darie-Dragos Mitoiu\n",
    "# Coursework Part B v1.0.0 25/11/2019\n",
    "# Big Data Analysis Coursework Part B\n",
    "# --------------------------------------------------"
   ]
  },
  {
   "cell_type": "code",
   "execution_count": 4,
   "metadata": {
    "collapsed": true
   },
   "outputs": [],
   "source": [
    "# Initial Exploration\n",
    "\n",
    "# Declare medallion data path\n",
    "medallion_data_path = \"/CW2019/Medallion.csv\""
   ]
  },
  {
   "cell_type": "code",
   "execution_count": 5,
   "metadata": {
    "collapsed": true
   },
   "outputs": [],
   "source": [
    "# Declare livery data path\n",
    "livery_data_path = \"/CW2019/Livery.csv\""
   ]
  },
  {
   "cell_type": "code",
   "execution_count": 6,
   "metadata": {
    "collapsed": false
   },
   "outputs": [],
   "source": [
    "# Load medallion data\n",
    "medallion_data = sc.textFile(medallion_data_path)"
   ]
  },
  {
   "cell_type": "code",
   "execution_count": 7,
   "metadata": {
    "collapsed": true
   },
   "outputs": [],
   "source": [
    "# Load livery data\n",
    "livery_data = sc.textFile(livery_data_path)"
   ]
  },
  {
   "cell_type": "code",
   "execution_count": 8,
   "metadata": {
    "collapsed": false
   },
   "outputs": [
    {
     "data": {
      "text/plain": [
       "[u'License Number;Name;Type;Expiration Date;Last Date Updated;Last Time Updated',\n",
       " u'679504;POTTER,WILLIAM,C;MEDALLION TAXI DRIVER;03/28/2020;08/22/2019;13:20',\n",
       " u'694722;KATTARIA,ABDEL,W;MEDALLION TAXI DRIVER;03/22/2020;08/22/2019;13:20',\n",
       " u'694770;MEDINA,FRANKLIN,A;MEDALLION TAXI DRIVER;03/24/2020;08/22/2019;13:20',\n",
       " u'503369;SHOHAG,MAHMADUL;MEDALLION TAXI DRIVER;03/05/2021;08/22/2019;13:20']"
      ]
     },
     "execution_count": 8,
     "metadata": {},
     "output_type": "execute_result"
    }
   ],
   "source": [
    "# Show first 5 lines of original medallion data\n",
    "medallion_data.take(5)"
   ]
  },
  {
   "cell_type": "code",
   "execution_count": 9,
   "metadata": {
    "collapsed": false
   },
   "outputs": [
    {
     "data": {
      "text/plain": [
       "[u'License Number;Name;Status Code;Status Description;Expiration Date;Last Date Updated;Last Time Updated',\n",
       " u'493092;MAIGA,BOUNAFOU;1;SHL UNRESTRICTED;11/24/2019;08/22/2019;13:20',\n",
       " u'681774;GNANARAJ,SINNA;1;SHL UNRESTRICTED;04/03/2020;08/22/2019;13:20',\n",
       " u'498143;KAREEM,LUKMAN,ABDUL;1;SHL UNRESTRICTED;01/03/2021;08/22/2019;13:20',\n",
       " u'686178;TAVERAS,OLGA;1;SHL UNRESTRICTED;08/21/2022;08/22/2019;13:20']"
      ]
     },
     "execution_count": 9,
     "metadata": {},
     "output_type": "execute_result"
    }
   ],
   "source": [
    "# Show first 5 lines of original livery data\n",
    "livery_data.take(5)"
   ]
  },
  {
   "cell_type": "code",
   "execution_count": 10,
   "metadata": {
    "collapsed": false
   },
   "outputs": [
    {
     "data": {
      "text/plain": [
       "[u'679504;POTTER,WILLIAM,C;MEDALLION TAXI DRIVER;03/28/2020;08/22/2019;13:20',\n",
       " u'694722;KATTARIA,ABDEL,W;MEDALLION TAXI DRIVER;03/22/2020;08/22/2019;13:20',\n",
       " u'694770;MEDINA,FRANKLIN,A;MEDALLION TAXI DRIVER;03/24/2020;08/22/2019;13:20',\n",
       " u'503369;SHOHAG,MAHMADUL;MEDALLION TAXI DRIVER;03/05/2021;08/22/2019;13:20',\n",
       " u'695848;RODRIGUEZ,JOSE,E;MEDALLION TAXI DRIVER;03/13/2020;08/22/2019;13:20']"
      ]
     },
     "execution_count": 10,
     "metadata": {},
     "output_type": "execute_result"
    }
   ],
   "source": [
    "# Remove header of medallion data\n",
    "\n",
    "# Get medallion data header\n",
    "medallion_header = medallion_data.first()\n",
    "# Remove medallion data headers\n",
    "rm_medallion_data = medallion_data.filter(lambda line: medallion_header not in line)\n",
    "# Show first 5 lines\n",
    "rm_medallion_data.take(5)"
   ]
  },
  {
   "cell_type": "code",
   "execution_count": 11,
   "metadata": {
    "collapsed": false
   },
   "outputs": [
    {
     "name": "stdout",
     "output_type": "stream",
     "text": [
      "Number of rows in the original medallion data: 185416\n"
     ]
    }
   ],
   "source": [
    "# Number of drivers in the original medallion data\n",
    "\n",
    "# Count number of rows of original medallion data\n",
    "print \"Number of rows in the original medallion data:\", medallion_data.count()"
   ]
  },
  {
   "cell_type": "code",
   "execution_count": 12,
   "metadata": {
    "collapsed": false
   },
   "outputs": [
    {
     "name": "stdout",
     "output_type": "stream",
     "text": [
      "Number of rows in the medallion data after the remove of headers: 185415\n"
     ]
    }
   ],
   "source": [
    "# Number of drivers in the medallion data after the deletion of header\n",
    "\n",
    "# Count number of rows of medallion data without the headers\n",
    "print \"Number of rows in the medallion data after the remove of headers:\", rm_medallion_data.count()"
   ]
  },
  {
   "cell_type": "code",
   "execution_count": 13,
   "metadata": {
    "collapsed": false
   },
   "outputs": [
    {
     "data": {
      "text/plain": [
       "[u'493092;MAIGA,BOUNAFOU;1;SHL UNRESTRICTED;11/24/2019;08/22/2019;13:20',\n",
       " u'681774;GNANARAJ,SINNA;1;SHL UNRESTRICTED;04/03/2020;08/22/2019;13:20',\n",
       " u'498143;KAREEM,LUKMAN,ABDUL;1;SHL UNRESTRICTED;01/03/2021;08/22/2019;13:20',\n",
       " u'686178;TAVERAS,OLGA;1;SHL UNRESTRICTED;08/21/2022;08/22/2019;13:20',\n",
       " u'664245;CORNIEL,PEDRO,A;1;SHL UNRESTRICTED;04/10/2022;08/22/2019;13:20']"
      ]
     },
     "execution_count": 13,
     "metadata": {},
     "output_type": "execute_result"
    }
   ],
   "source": [
    "# Remove header of livery data\n",
    "\n",
    "# Get the headers line\n",
    "livery_header = livery_data.first()\n",
    "# Remove the header line\n",
    "rm_livery_data = livery_data.filter(lambda line: livery_header not in line)\n",
    "# Show the first 5 lines\n",
    "rm_livery_data.take(5)"
   ]
  },
  {
   "cell_type": "code",
   "execution_count": 14,
   "metadata": {
    "collapsed": false
   },
   "outputs": [
    {
     "name": "stdout",
     "output_type": "stream",
     "text": [
      "Number of rows in the original livery data: 186739\n"
     ]
    }
   ],
   "source": [
    "# Number of drivers in the original livery data\n",
    "\n",
    "# Count number of rows in the original livery data\n",
    "print \"Number of rows in the original livery data:\", livery_data.count()"
   ]
  },
  {
   "cell_type": "code",
   "execution_count": 15,
   "metadata": {
    "collapsed": false
   },
   "outputs": [
    {
     "name": "stdout",
     "output_type": "stream",
     "text": [
      "Number of rows in the livery data after the deletion of header: 186738\n"
     ]
    }
   ],
   "source": [
    "# Number of drivers in the livery data after the deletion of the header\n",
    "\n",
    "# Count number of rows in the livery data after the deletion of header\n",
    "print \"Number of rows in the livery data after the deletion of header:\", rm_livery_data.count()"
   ]
  },
  {
   "cell_type": "code",
   "execution_count": 24,
   "metadata": {
    "collapsed": false
   },
   "outputs": [
    {
     "data": {
      "text/plain": [
       "[(u'SHL UNRESTRICTED', 185359),\n",
       " (u'SHL WAV ONLY    ', 1323),\n",
       " (u'SHL NON-WAV ONLY', 56)]"
      ]
     },
     "execution_count": 24,
     "metadata": {},
     "output_type": "execute_result"
    }
   ],
   "source": [
    "# Number of values of status description\n",
    "\n",
    "count_status = rm_livery_data.map(lambda line: line.split(\";\")) \\\n",
    "                             .map(lambda fields: (fields[3], 1)) \\\n",
    "                             .reduceByKey(lambda v1,v2: v1+v2)\n",
    "\n",
    "count_status.collect()\n"
   ]
  },
  {
   "cell_type": "code",
   "execution_count": 31,
   "metadata": {
    "collapsed": false
   },
   "outputs": [
    {
     "name": "stdout",
     "output_type": "stream",
     "text": [
      "Values of status description: 3\n"
     ]
    }
   ],
   "source": [
    "# Get the status description values\n",
    "values_status = count_status.map(lambda fields: (fields[0]))\n",
    "\n",
    "# Count values and print result\n",
    "print \"Values of status description:\", values_status.count()"
   ]
  },
  {
   "cell_type": "code",
   "execution_count": 32,
   "metadata": {
    "collapsed": false
   },
   "outputs": [
    {
     "name": "stdout",
     "output_type": "stream",
     "text": [
      "Total number of status description values: 186738\n"
     ]
    }
   ],
   "source": [
    "# Total number of values of status description\n",
    "\n",
    "# Get count column\n",
    "count_status_result = count_status.map(lambda fields: (fields[1]))\n",
    "\n",
    "# Print result\n",
    "print \"Total number of status description values:\", count_status_result.sum()"
   ]
  },
  {
   "cell_type": "code",
   "execution_count": 36,
   "metadata": {
    "collapsed": false
   },
   "outputs": [],
   "source": [
    "# More Detailed Analysis - A\n",
    "\n",
    "# Get the license number and status description for join later on\n",
    "drivers_status = rm_livery_data.map(lambda line: line.split(\";\")) \\\n",
    "                               .map(lambda fields: (fields[0], fields[3]))"
   ]
  },
  {
   "cell_type": "code",
   "execution_count": 37,
   "metadata": {
    "collapsed": false
   },
   "outputs": [
    {
     "data": {
      "text/plain": [
       "[(u'493092', u'SHL UNRESTRICTED'),\n",
       " (u'681774', u'SHL UNRESTRICTED'),\n",
       " (u'498143', u'SHL UNRESTRICTED'),\n",
       " (u'686178', u'SHL UNRESTRICTED'),\n",
       " (u'664245', u'SHL UNRESTRICTED')]"
      ]
     },
     "execution_count": 37,
     "metadata": {},
     "output_type": "execute_result"
    }
   ],
   "source": [
    "# Show first 5 lines\n",
    "drivers_status.take(5)"
   ]
  },
  {
   "cell_type": "code",
   "execution_count": 38,
   "metadata": {
    "collapsed": false
   },
   "outputs": [
    {
     "data": {
      "text/plain": [
       "[(u'679504',\n",
       "  [u'POTTER,WILLIAM,C',\n",
       "   u'MEDALLION TAXI DRIVER',\n",
       "   u'03/28/2020',\n",
       "   u'08/22/2019',\n",
       "   u'13:20']),\n",
       " (u'694722',\n",
       "  [u'KATTARIA,ABDEL,W',\n",
       "   u'MEDALLION TAXI DRIVER',\n",
       "   u'03/22/2020',\n",
       "   u'08/22/2019',\n",
       "   u'13:20']),\n",
       " (u'694770',\n",
       "  [u'MEDINA,FRANKLIN,A',\n",
       "   u'MEDALLION TAXI DRIVER',\n",
       "   u'03/24/2020',\n",
       "   u'08/22/2019',\n",
       "   u'13:20']),\n",
       " (u'503369',\n",
       "  [u'SHOHAG,MAHMADUL',\n",
       "   u'MEDALLION TAXI DRIVER',\n",
       "   u'03/05/2021',\n",
       "   u'08/22/2019',\n",
       "   u'13:20']),\n",
       " (u'695848',\n",
       "  [u'RODRIGUEZ,JOSE,E',\n",
       "   u'MEDALLION TAXI DRIVER',\n",
       "   u'03/13/2020',\n",
       "   u'08/22/2019',\n",
       "   u'13:20'])]"
      ]
     },
     "execution_count": 38,
     "metadata": {},
     "output_type": "execute_result"
    }
   ],
   "source": [
    "# Create medallion data key and value pair\n",
    "medallion_pair = rm_medallion_data.map(lambda line: line.split(\";\")) \\\n",
    "                                  .map(lambda fields: (fields[0],  fields[1:]))\n",
    "    \n",
    "# Show first 5 lines\n",
    "medallion_pair.take(5)"
   ]
  },
  {
   "cell_type": "code",
   "execution_count": 39,
   "metadata": {
    "collapsed": false
   },
   "outputs": [],
   "source": [
    "# More Detailed Analysis - B\n",
    "\n",
    "# Join medallion data pair with livery licencese number and status description\n",
    "medallion_status = medallion_pair.join(drivers_status)"
   ]
  },
  {
   "cell_type": "code",
   "execution_count": 40,
   "metadata": {
    "collapsed": false
   },
   "outputs": [
    {
     "data": {
      "text/plain": [
       "[(u'5866631',\n",
       "  ([u'AVALBOEV,JURABEK',\n",
       "    u'MEDALLION TAXI DRIVER',\n",
       "    u'04/23/2021',\n",
       "    u'08/22/2019',\n",
       "    u'13:20'],\n",
       "   u'SHL UNRESTRICTED')),\n",
       " (u'5866635',\n",
       "  ([u'DZAGNIDZE,ZURABI',\n",
       "    u'MEDALLION TAXI DRIVER',\n",
       "    u'04/24/2021',\n",
       "    u'08/22/2019',\n",
       "    u'13:20'],\n",
       "   u'SHL UNRESTRICTED')),\n",
       " (u'5441506',\n",
       "  ([u'ZARIPOV,BAHODIR',\n",
       "    u'MEDALLION TAXI DRIVER',\n",
       "    u'06/28/2020',\n",
       "    u'08/22/2019',\n",
       "    u'13:20'],\n",
       "   u'SHL UNRESTRICTED')),\n",
       " (u'5333263',\n",
       "  ([u'SINGH,SEWAK',\n",
       "    u'MEDALLION TAXI DRIVER',\n",
       "    u'05/28/2022',\n",
       "    u'08/22/2019',\n",
       "    u'13:20'],\n",
       "   u'SHL UNRESTRICTED')),\n",
       " (u'5839477',\n",
       "  ([u'AGBAMA,JAMES',\n",
       "    u'MEDALLION TAXI DRIVER',\n",
       "    u'12/27/2020',\n",
       "    u'08/22/2019',\n",
       "    u'13:20'],\n",
       "   u'SHL UNRESTRICTED'))]"
      ]
     },
     "execution_count": 40,
     "metadata": {},
     "output_type": "execute_result"
    }
   ],
   "source": [
    "# Show first 5 lines\n",
    "medallion_status.take(5)"
   ]
  },
  {
   "cell_type": "code",
   "execution_count": 47,
   "metadata": {
    "collapsed": false
   },
   "outputs": [
    {
     "data": {
      "text/plain": [
       "[(u'SHL UNRESTRICTED', 185359), (u'SHL NON-WAV ONLY', 56)]"
      ]
     },
     "execution_count": 47,
     "metadata": {},
     "output_type": "execute_result"
    }
   ],
   "source": [
    "# More Detailed Analysis - C\n",
    "\n",
    "# Inverse status description and key\n",
    "status = medallion_status.map(lambda fields: (fields[1][1], fields[0]))\n",
    "# Count the status description\n",
    "status_count = status.map(lambda fields: (fields[0], 1)) \\\n",
    "                     .reduceByKey(lambda v1, v2: v1+v2)\n",
    "# Show the result\n",
    "status_count.collect()"
   ]
  },
  {
   "cell_type": "code",
   "execution_count": 48,
   "metadata": {
    "collapsed": false
   },
   "outputs": [
    {
     "name": "stdout",
     "output_type": "stream",
     "text": [
      "Number of drivers having each status description: 185415\n"
     ]
    }
   ],
   "source": [
    "# Get the status description numbers\n",
    "number_drivers_status = status_count.map(lambda fields: (fields[1]))\n",
    "# Calculate the total number\n",
    "print \"Number of drivers having each status description:\", number_drivers_status.sum()"
   ]
  },
  {
   "cell_type": "code",
   "execution_count": 49,
   "metadata": {
    "collapsed": false
   },
   "outputs": [
    {
     "data": {
      "text/plain": [
       "[(u'SINGH', 7459),\n",
       " (u'AHMED', 2179),\n",
       " (u'KHAN', 1840),\n",
       " (u'ISLAM', 1832),\n",
       " (u'RAHMAN', 1779)]"
      ]
     },
     "execution_count": 49,
     "metadata": {},
     "output_type": "execute_result"
    }
   ],
   "source": [
    "# More Detailed Analysis - D\n",
    "\n",
    "# Get the last name\n",
    "d_medallion = rm_medallion_data.map(lambda line: line.split(\";\")[1])\n",
    "\n",
    "# Frequency of the names in descending order\n",
    "d_medallion_name = d_medallion.map(lambda line: line.split(\",\")[0]) \\\n",
    "                              .map(lambda name: (name, 1)) \\\n",
    "                              .reduceByKey(lambda v1,v2: v1+v2) \\\n",
    "                              .map(lambda fields: (fields[1], fields[0])) \\\n",
    "                              .sortByKey(ascending=False) \\\n",
    "                              .map(lambda fields: (fields[1], fields[0]))\n",
    "\n",
    "# Show first 5 lines\n",
    "d_medallion_name.take(5)"
   ]
  }
 ],
 "metadata": {
  "kernelspec": {
   "display_name": "Python 2",
   "language": "python",
   "name": "python2"
  },
  "language_info": {
   "codemirror_mode": {
    "name": "ipython",
    "version": 2
   },
   "file_extension": ".py",
   "mimetype": "text/x-python",
   "name": "python",
   "nbconvert_exporter": "python",
   "pygments_lexer": "ipython2",
   "version": "2.7.8"
  }
 },
 "nbformat": 4,
 "nbformat_minor": 0
}
